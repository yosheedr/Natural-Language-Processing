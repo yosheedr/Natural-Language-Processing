{
  "nbformat": 4,
  "nbformat_minor": 0,
  "metadata": {
    "colab": {
      "provenance": []
    },
    "kernelspec": {
      "name": "python3",
      "display_name": "Python 3"
    },
    "language_info": {
      "name": "python"
    }
  },
  "cells": [
    {
      "cell_type": "code",
      "execution_count": null,
      "metadata": {
        "colab": {
          "base_uri": "https://localhost:8080/"
        },
        "id": "_08HqpNCs6VE",
        "outputId": "bc1ac029-e8f8-4f6d-c283-10ce723c8787"
      },
      "outputs": [
        {
          "output_type": "stream",
          "name": "stdout",
          "text": [
            "makanan di kantin biru gurih dan enakmakanan di kantin biru biasa sajamakanan di kantin biru hambar dan tidak enak\n",
            "['makanan', 'di', 'kantin', 'biru', 'gurih', 'dan', 'enak', 'makanan', 'di', 'kantin', 'biru', 'biasa', 'saja', 'makanan', 'di', 'kantin', 'biru', 'hambar', 'dan', 'tidak', 'enak']\n",
            "['makanan di kantin biru gurih dan enak', 'makanan di kantin biru biasa saja', 'makanan di kantin biru hambar dan tidak enak']\n"
          ]
        }
      ],
      "source": [
        "# ini kumpulan dokumen kita\n",
        "d1 = \"makanan di kantin biru gurih dan enak\"\n",
        "d2 = \"makanan di kantin biru biasa saja\"\n",
        "d3 = \"makanan di kantin biru hambar dan tidak enak\"\n",
        "\n",
        "d_string = f\"{d1}{d2}{d3}\"\n",
        "d_semua = d1.split()+d2.split()+d3.split()\n",
        "d_list = [d1, d2, d3]\n",
        "\n",
        "print (d_string)\n",
        "print (d_semua)\n",
        "print (d_list)"
      ]
    },
    {
      "cell_type": "code",
      "source": [
        "kamus_kata = {}\n",
        "for data in d_semua:\n",
        "  kamus_kata[data] = d_string.count(data)\n",
        "\n",
        "print (kamus_kata)"
      ],
      "metadata": {
        "colab": {
          "base_uri": "https://localhost:8080/"
        },
        "id": "gQNaqZxF13zd",
        "outputId": "31ab3701-3c44-443b-e98f-e7240a892f96"
      },
      "execution_count": null,
      "outputs": [
        {
          "output_type": "stream",
          "name": "stdout",
          "text": [
            "{'makanan': 3, 'di': 3, 'kantin': 3, 'biru': 3, 'gurih': 1, 'dan': 2, 'enak': 2, 'biasa': 1, 'saja': 1, 'hambar': 1, 'tidak': 1}\n"
          ]
        }
      ]
    },
    {
      "cell_type": "code",
      "source": [
        "# TF = frekuensi kemunculan kata dalam sebuah dokumen\n",
        "data_dict = {}\n",
        "data_list = []\n",
        "for kalimat in d_list:\n",
        "  for kata in d_semua:\n",
        "    data_dict[kata] = kalimat.count(kata)/len(kalimat.split())\n",
        "  data_list.append(data_dict)\n",
        "  data_dict = {}\n",
        "\n",
        "print (data_list)"
      ],
      "metadata": {
        "colab": {
          "base_uri": "https://localhost:8080/"
        },
        "id": "iWX9LSwN3wKk",
        "outputId": "c768cb0e-3a15-475b-8ef2-c9b977334905"
      },
      "execution_count": null,
      "outputs": [
        {
          "output_type": "stream",
          "name": "stdout",
          "text": [
            "[{'makanan': 0.14285714285714285, 'di': 0.14285714285714285, 'kantin': 0.14285714285714285, 'biru': 0.14285714285714285, 'gurih': 0.14285714285714285, 'dan': 0.14285714285714285, 'enak': 0.14285714285714285, 'biasa': 0.0, 'saja': 0.0, 'hambar': 0.0, 'tidak': 0.0}, {'makanan': 0.16666666666666666, 'di': 0.16666666666666666, 'kantin': 0.16666666666666666, 'biru': 0.16666666666666666, 'gurih': 0.0, 'dan': 0.0, 'enak': 0.0, 'biasa': 0.16666666666666666, 'saja': 0.16666666666666666, 'hambar': 0.0, 'tidak': 0.0}, {'makanan': 0.125, 'di': 0.125, 'kantin': 0.125, 'biru': 0.125, 'gurih': 0.0, 'dan': 0.125, 'enak': 0.125, 'biasa': 0.0, 'saja': 0.0, 'hambar': 0.125, 'tidak': 0.125}]\n"
          ]
        }
      ]
    },
    {
      "cell_type": "code",
      "source": [
        "# Term Frequency\n",
        "print (\"Term Frequency\")\n",
        "for i in range (len(data_list)):\n",
        "  print (f\"Data {i+1} : {data_list[i]}\")"
      ],
      "metadata": {
        "colab": {
          "base_uri": "https://localhost:8080/"
        },
        "id": "Z71b04NQ6F_K",
        "outputId": "3dd8e5ec-2c9e-46ca-8362-29b800b3047e"
      },
      "execution_count": null,
      "outputs": [
        {
          "output_type": "stream",
          "name": "stdout",
          "text": [
            "Term Frequency\n",
            "Data 1 : {'makanan': 0.14285714285714285, 'di': 0.14285714285714285, 'kantin': 0.14285714285714285, 'biru': 0.14285714285714285, 'gurih': 0.14285714285714285, 'dan': 0.14285714285714285, 'enak': 0.14285714285714285, 'biasa': 0.0, 'saja': 0.0, 'hambar': 0.0, 'tidak': 0.0}\n",
            "Data 2 : {'makanan': 0.16666666666666666, 'di': 0.16666666666666666, 'kantin': 0.16666666666666666, 'biru': 0.16666666666666666, 'gurih': 0.0, 'dan': 0.0, 'enak': 0.0, 'biasa': 0.16666666666666666, 'saja': 0.16666666666666666, 'hambar': 0.0, 'tidak': 0.0}\n",
            "Data 3 : {'makanan': 0.125, 'di': 0.125, 'kantin': 0.125, 'biru': 0.125, 'gurih': 0.0, 'dan': 0.125, 'enak': 0.125, 'biasa': 0.0, 'saja': 0.0, 'hambar': 0.125, 'tidak': 0.125}\n"
          ]
        }
      ]
    },
    {
      "cell_type": "code",
      "source": [
        "# IDF = Inverse Document Frecuency\n",
        "# kata yang sering muncul = bobot kecil & sebaliknya\n",
        "\n",
        "import math\n",
        "data_idf = {}\n",
        "for kata in kamus_kata:\n",
        "  hitung = math.log (len(d_list)/kamus_kata[kata], 10) # 10 adalah log\n",
        "  data_idf[kata] = hitung\n",
        "\n",
        "print (data_idf)"
      ],
      "metadata": {
        "colab": {
          "base_uri": "https://localhost:8080/"
        },
        "id": "n0LPgEwF43hl",
        "outputId": "fd1b8646-b6d8-4de7-a9f6-54e8161ead14"
      },
      "execution_count": null,
      "outputs": [
        {
          "output_type": "stream",
          "name": "stdout",
          "text": [
            "{'makanan': 0.0, 'di': 0.0, 'kantin': 0.0, 'biru': 0.0, 'gurih': 0.47712125471966244, 'dan': 0.17609125905568124, 'enak': 0.17609125905568124, 'biasa': 0.47712125471966244, 'saja': 0.47712125471966244, 'hambar': 0.47712125471966244, 'tidak': 0.47712125471966244}\n"
          ]
        }
      ]
    },
    {
      "cell_type": "code",
      "source": [
        "# TF x IDF\n",
        "hasil = []\n",
        "data_sementara = {}\n",
        "\n",
        "for index in range (len(data_list)):\n",
        "  for i in data_list[index]:\n",
        "    hitung = data_list[index][i] * data_idf[i] # TF * IDF\n",
        "    data_sementara[i] = round(hitung, 3)\n",
        "  hasil.append(data_sementara)\n",
        "  data_sementara = {}\n",
        "\n",
        "for i in range (len(hasil)):\n",
        "  print (f\"Data {i} : {hasil[i]}\")"
      ],
      "metadata": {
        "colab": {
          "base_uri": "https://localhost:8080/"
        },
        "id": "UNyUJs1D9GbE",
        "outputId": "d42d9490-ef7f-4920-f482-154671d41bf1"
      },
      "execution_count": null,
      "outputs": [
        {
          "output_type": "stream",
          "name": "stdout",
          "text": [
            "Data 0 : {'makanan': 0.0, 'di': 0.0, 'kantin': 0.0, 'biru': 0.0, 'gurih': 0.068, 'dan': 0.025, 'enak': 0.025, 'biasa': 0.0, 'saja': 0.0, 'hambar': 0.0, 'tidak': 0.0}\n",
            "Data 1 : {'makanan': 0.0, 'di': 0.0, 'kantin': 0.0, 'biru': 0.0, 'gurih': 0.0, 'dan': 0.0, 'enak': 0.0, 'biasa': 0.08, 'saja': 0.08, 'hambar': 0.0, 'tidak': 0.0}\n",
            "Data 2 : {'makanan': 0.0, 'di': 0.0, 'kantin': 0.0, 'biru': 0.0, 'gurih': 0.0, 'dan': 0.022, 'enak': 0.022, 'biasa': 0.0, 'saja': 0.0, 'hambar': 0.06, 'tidak': 0.06}\n"
          ]
        }
      ]
    }
  ]
}