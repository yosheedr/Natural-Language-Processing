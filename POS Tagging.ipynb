{
  "nbformat": 4,
  "nbformat_minor": 0,
  "metadata": {
    "colab": {
      "provenance": []
    },
    "kernelspec": {
      "name": "python3",
      "display_name": "Python 3"
    },
    "language_info": {
      "name": "python"
    }
  },
  "cells": [
    {
      "cell_type": "markdown",
      "source": [
        "Kita main pakai NLTK !!\n",
        "\n",
        "**1. Import libraries yang kita gunakan, jangan lupa unduh BROWN, Treebank, Punkt**\n"
      ],
      "metadata": {
        "id": "X8DzjM3y4SRb"
      }
    },
    {
      "cell_type": "code",
      "execution_count": null,
      "metadata": {
        "id": "fdKqqEkuz10X",
        "colab": {
          "base_uri": "https://localhost:8080/"
        },
        "outputId": "0d3b2bcc-416f-4133-9b58-25a2914390aa"
      },
      "outputs": [
        {
          "output_type": "stream",
          "name": "stderr",
          "text": [
            "[nltk_data] Downloading package brown to /root/nltk_data...\n",
            "[nltk_data]   Package brown is already up-to-date!\n",
            "[nltk_data] Downloading package treebank to /root/nltk_data...\n",
            "[nltk_data]   Package treebank is already up-to-date!\n",
            "[nltk_data] Downloading package punkt to /root/nltk_data...\n",
            "[nltk_data]   Package punkt is already up-to-date!\n"
          ]
        }
      ],
      "source": [
        "import nltk\n",
        "nltk.download('brown')\n",
        "nltk.download('treebank')\n",
        "nltk.download('punkt')\n",
        "\n",
        "from nltk import word_tokenize\n",
        "from nltk.corpus import brown as cb\n",
        "from nltk.corpus import treebank as tb\n",
        "\n",
        "import pprint\n",
        "from sklearn.tree import DecisionTreeClassifier\n",
        "from sklearn.feature_extraction import DictVectorizer\n",
        "from sklearn.pipeline import Pipeline"
      ]
    },
    {
      "cell_type": "markdown",
      "source": [
        "**2. Kita coba lihat dulu datasetkita; Corpus BROWN**"
      ],
      "metadata": {
        "id": "ah0mo4hg5zOC"
      }
    },
    {
      "cell_type": "code",
      "source": [
        "data = nltk.Text(cb.words('ca01')) # membaca kalimat ke ca0...\n",
        "print (data)"
      ],
      "metadata": {
        "colab": {
          "base_uri": "https://localhost:8080/"
        },
        "id": "Xuh8aJeq6DHN",
        "outputId": "cc9c012d-d4dd-42f2-8d3e-566b0442abc6"
      },
      "execution_count": null,
      "outputs": [
        {
          "output_type": "stream",
          "name": "stdout",
          "text": [
            "<Text: The Fulton County Grand Jury said Friday an...>\n"
          ]
        }
      ]
    },
    {
      "cell_type": "code",
      "source": [
        "print (cb.words('ca01')[0:20])"
      ],
      "metadata": {
        "colab": {
          "base_uri": "https://localhost:8080/"
        },
        "id": "MaOxXMig6R2q",
        "outputId": "2c002e87-d0d8-46a3-adb7-cc75a3e83bec"
      },
      "execution_count": null,
      "outputs": [
        {
          "output_type": "stream",
          "name": "stdout",
          "text": [
            "['The', 'Fulton', 'County', 'Grand', 'Jury', 'said', 'Friday', 'an', 'investigation', 'of', \"Atlanta's\", 'recent', 'primary', 'election', 'produced', '``', 'no', 'evidence', \"''\", 'that']\n"
          ]
        }
      ]
    },
    {
      "cell_type": "code",
      "source": [
        "print (cb.tagged_words('ca01')[0:5]) # melihat kategori tagging words"
      ],
      "metadata": {
        "colab": {
          "base_uri": "https://localhost:8080/"
        },
        "id": "s6-c8kWk6jCL",
        "outputId": "48a18618-89ec-4acd-e883-9ae8e13e41a5"
      },
      "execution_count": null,
      "outputs": [
        {
          "output_type": "stream",
          "name": "stdout",
          "text": [
            "[('The', 'AT'), ('Fulton', 'NP-TL'), ('County', 'NN-TL'), ('Grand', 'JJ-TL'), ('Jury', 'NN-TL')]\n"
          ]
        }
      ]
    },
    {
      "cell_type": "code",
      "source": [
        "tagged_sentences_brown_corpus = nltk.corpus.brown.tagged_sents()\n",
        "pprint.pprint (tagged_sentences_brown_corpus[0])"
      ],
      "metadata": {
        "colab": {
          "base_uri": "https://localhost:8080/"
        },
        "id": "sKLZUTFU60kJ",
        "outputId": "ec132673-cc5f-4736-988f-41b9ea89362d"
      },
      "execution_count": null,
      "outputs": [
        {
          "output_type": "stream",
          "name": "stdout",
          "text": [
            "[('The', 'AT'),\n",
            " ('Fulton', 'NP-TL'),\n",
            " ('County', 'NN-TL'),\n",
            " ('Grand', 'JJ-TL'),\n",
            " ('Jury', 'NN-TL'),\n",
            " ('said', 'VBD'),\n",
            " ('Friday', 'NR'),\n",
            " ('an', 'AT'),\n",
            " ('investigation', 'NN'),\n",
            " ('of', 'IN'),\n",
            " (\"Atlanta's\", 'NP$'),\n",
            " ('recent', 'JJ'),\n",
            " ('primary', 'NN'),\n",
            " ('election', 'NN'),\n",
            " ('produced', 'VBD'),\n",
            " ('``', '``'),\n",
            " ('no', 'AT'),\n",
            " ('evidence', 'NN'),\n",
            " (\"''\", \"''\"),\n",
            " ('that', 'CS'),\n",
            " ('any', 'DTI'),\n",
            " ('irregularities', 'NNS'),\n",
            " ('took', 'VBD'),\n",
            " ('place', 'NN'),\n",
            " ('.', '.')]\n"
          ]
        }
      ]
    },
    {
      "cell_type": "markdown",
      "source": [
        "**3. Kita coba eksplor corpus Penn-Treebank**"
      ],
      "metadata": {
        "id": "KFcwLoHf9dBh"
      }
    },
    {
      "cell_type": "code",
      "source": [
        "data = nltk.Text(tb.words()[0:10])\n",
        "print (data)"
      ],
      "metadata": {
        "colab": {
          "base_uri": "https://localhost:8080/"
        },
        "id": "H834NsYx883H",
        "outputId": "afc606e0-07f1-451d-f267-8031777073db"
      },
      "execution_count": null,
      "outputs": [
        {
          "output_type": "stream",
          "name": "stdout",
          "text": [
            "<Text: Pierre Vinken , 61 years old , will...>\n"
          ]
        }
      ]
    },
    {
      "cell_type": "code",
      "source": [
        "print (tb.words()[0:20])"
      ],
      "metadata": {
        "colab": {
          "base_uri": "https://localhost:8080/"
        },
        "id": "1qMwY42h9YN-",
        "outputId": "3d373688-e483-4afe-bf10-c89768396e86"
      },
      "execution_count": null,
      "outputs": [
        {
          "output_type": "stream",
          "name": "stdout",
          "text": [
            "['Pierre', 'Vinken', ',', '61', 'years', 'old', ',', 'will', 'join', 'the', 'board', 'as', 'a', 'nonexecutive', 'director', 'Nov.', '29', '.', 'Mr.', 'Vinken']\n"
          ]
        }
      ]
    },
    {
      "cell_type": "code",
      "source": [
        "tagged_sentences_treebank_corpus = nltk.corpus.treebank.tagged_sents()\n",
        "pprint.pprint (tagged_sentences_treebank_corpus[0])"
      ],
      "metadata": {
        "colab": {
          "base_uri": "https://localhost:8080/"
        },
        "id": "Idauswau9pW4",
        "outputId": "b6000fa8-9c63-4ddc-95ba-0406ba17b917"
      },
      "execution_count": null,
      "outputs": [
        {
          "output_type": "stream",
          "name": "stdout",
          "text": [
            "[('Pierre', 'NNP'),\n",
            " ('Vinken', 'NNP'),\n",
            " (',', ','),\n",
            " ('61', 'CD'),\n",
            " ('years', 'NNS'),\n",
            " ('old', 'JJ'),\n",
            " (',', ','),\n",
            " ('will', 'MD'),\n",
            " ('join', 'VB'),\n",
            " ('the', 'DT'),\n",
            " ('board', 'NN'),\n",
            " ('as', 'IN'),\n",
            " ('a', 'DT'),\n",
            " ('nonexecutive', 'JJ'),\n",
            " ('director', 'NN'),\n",
            " ('Nov.', 'NNP'),\n",
            " ('29', 'CD'),\n",
            " ('.', '.')]\n"
          ]
        }
      ]
    },
    {
      "cell_type": "markdown",
      "source": [
        "**4. Kita pilih corpus Penn-Treebank untuk bangun / bikin POS Tagger sendiri**"
      ],
      "metadata": {
        "id": "XYhhK2Jd-GID"
      }
    },
    {
      "cell_type": "code",
      "source": [
        "print (\"Kalimat yang di-tag sebanyak :\", len(tagged_sentences_treebank_corpus))"
      ],
      "metadata": {
        "colab": {
          "base_uri": "https://localhost:8080/"
        },
        "id": "io7ZhmCd-T-W",
        "outputId": "05205423-21bd-4081-b0bf-a1e6cf680356"
      },
      "execution_count": null,
      "outputs": [
        {
          "output_type": "stream",
          "name": "stdout",
          "text": [
            "Kalimat yang di-tag sebanyak : 3914\n"
          ]
        }
      ]
    },
    {
      "cell_type": "code",
      "source": [
        "print (\"Jumlah kata yang di-tag sebanyak :\", len(nltk.corpus.treebank.tagged_words()))"
      ],
      "metadata": {
        "colab": {
          "base_uri": "https://localhost:8080/"
        },
        "id": "AZ2vPqNo-ieA",
        "outputId": "cce89d54-c80d-40d2-fd71-106e1c980662"
      },
      "execution_count": null,
      "outputs": [
        {
          "output_type": "stream",
          "name": "stdout",
          "text": [
            "Jumlah kata yang di-tag sebanyak : 100676\n"
          ]
        }
      ]
    },
    {
      "cell_type": "markdown",
      "source": [
        "Kita buat fitur pakai fungsi!!"
      ],
      "metadata": {
        "id": "e3q5VMFn_FgV"
      }
    },
    {
      "cell_type": "code",
      "source": [
        "def features(sentence, index) :\n",
        "  return {\n",
        "      'word' : sentence[index],\n",
        "      'is_first' : index == 0,\n",
        "      'is_last' : index == len(sentence) - 1,\n",
        "      'is_capitalized' : sentence[index][0].upper() == sentence[index][0],\n",
        "      'is_all_caps' : sentence[index].upper() == sentence[index],\n",
        "      'is_all_lower' : sentence[index].lower() == sentence[index],\n",
        "\n",
        "      'prefix-1' : sentence[index][0],\n",
        "      # 'prefix-2' : sentence[index][:2],\n",
        "      # 'prefix-3' : sentence[index][:3],\n",
        "\n",
        "      'sufix-1' : sentence[index][-1],\n",
        "      # 'sufix-2' : sentence[index][-2],\n",
        "      # 'sufix-3' : sentence[index][-3],\n",
        "\n",
        "      'prev_word' : '' if index == 0 else sentence[index - 1],\n",
        "      'next_word' : '' if index == len(sentence) - 1 else sentence[index + 1],\n",
        "      'has_hypen' : '-' in sentence[index],\n",
        "      'is_numeric' : sentence[index].isdigit(),\n",
        "      'capitals_inside' : sentence[index][1:].lower() != sentence[index][1:]\n",
        "  }"
      ],
      "metadata": {
        "id": "8EmWIPpE_OyU"
      },
      "execution_count": null,
      "outputs": []
    },
    {
      "cell_type": "code",
      "source": [
        "pprint.pprint(features(['This', 'IS', 'a', 'sentence'], 0))"
      ],
      "metadata": {
        "colab": {
          "base_uri": "https://localhost:8080/"
        },
        "id": "c_Ov5SonBliQ",
        "outputId": "573704ac-eb2f-4911-e1f2-734295a9894a"
      },
      "execution_count": null,
      "outputs": [
        {
          "output_type": "stream",
          "name": "stdout",
          "text": [
            "{'capitals_inside': False,\n",
            " 'has_hypen': False,\n",
            " 'is_all_caps': False,\n",
            " 'is_all_lower': False,\n",
            " 'is_capitalized': True,\n",
            " 'is_first': True,\n",
            " 'is_last': False,\n",
            " 'is_numeric': False,\n",
            " 'next_word': 'IS',\n",
            " 'prefix-1': 'T',\n",
            " 'prev_word': '',\n",
            " 'sufix-1': 's',\n",
            " 'word': 'This'}\n"
          ]
        }
      ]
    },
    {
      "cell_type": "markdown",
      "source": [
        "**5. Transformasi dataset!**"
      ],
      "metadata": {
        "id": "VU6qnMS6B-E1"
      }
    },
    {
      "cell_type": "code",
      "source": [
        "def untag(tagged_sentences) :\n",
        "  return [w for w, t in tagged_sentences]"
      ],
      "metadata": {
        "id": "OvBr6yieCEeM"
      },
      "execution_count": null,
      "outputs": []
    },
    {
      "cell_type": "markdown",
      "source": [
        "Ubah dataset menjadi pasangan X dan y!!\n",
        "\n",
        "\n",
        "X = Fitur\n",
        "\n",
        "y = label POS"
      ],
      "metadata": {
        "id": "_RcrXCd6CU7I"
      }
    },
    {
      "cell_type": "code",
      "source": [
        "def transform_to_dataset(tagged_sentences) :\n",
        "  X, y = [], []\n",
        "  for tagged in tagged_sentences :\n",
        "    for index in range(len(tagged)) :\n",
        "      X.append(features(untag(tagged), index))\n",
        "      y.append(tagged[index][1])\n",
        "  return X,y"
      ],
      "metadata": {
        "id": "ne7xypddChWW"
      },
      "execution_count": null,
      "outputs": []
    },
    {
      "cell_type": "markdown",
      "source": [
        "**6. Bagi dataset ke training dan testing!**"
      ],
      "metadata": {
        "id": "2WeihmjrEPbK"
      }
    },
    {
      "cell_type": "code",
      "source": [
        "cutoff = int(.75 * len(tagged_sentences_treebank_corpus)) # memotong seberapa bagian data\n",
        "training_sentences = tagged_sentences_treebank_corpus[:cutoff]\n",
        "testing_sentences = tagged_sentences_treebank_corpus[cutoff:] # cutoff: -> mengambil sisanya"
      ],
      "metadata": {
        "id": "LhCeZoZ7Eg-B"
      },
      "execution_count": null,
      "outputs": []
    },
    {
      "cell_type": "code",
      "source": [
        "print (len(training_sentences))\n",
        "print (len(testing_sentences))"
      ],
      "metadata": {
        "colab": {
          "base_uri": "https://localhost:8080/"
        },
        "id": "vwBX9gXxFAd3",
        "outputId": "d5a6573e-1b2e-4a4e-d7d1-72d9b4d0ade5"
      },
      "execution_count": null,
      "outputs": [
        {
          "output_type": "stream",
          "name": "stdout",
          "text": [
            "2935\n",
            "979\n"
          ]
        }
      ]
    },
    {
      "cell_type": "code",
      "source": [
        "X, y = transform_to_dataset(training_sentences)"
      ],
      "metadata": {
        "id": "dmo9jIwwFeKF"
      },
      "execution_count": null,
      "outputs": []
    },
    {
      "cell_type": "markdown",
      "source": [
        "**7. Train Model!**"
      ],
      "metadata": {
        "id": "mr7aeWcBHnXQ"
      }
    },
    {
      "cell_type": "code",
      "source": [
        "clf = Pipeline([\n",
        "    ('vectorizer', DictVectorizer(sparse = False)),\n",
        "    ('classifier', DecisionTreeClassifier(criterion = 'entropy'))\n",
        "])"
      ],
      "metadata": {
        "id": "9cumP_3eHrIY"
      },
      "execution_count": null,
      "outputs": []
    },
    {
      "cell_type": "code",
      "source": [
        "clf.fit (X[:10000], y[:10000])"
      ],
      "metadata": {
        "colab": {
          "base_uri": "https://localhost:8080/",
          "height": 126
        },
        "id": "37GgSCAGIGqf",
        "outputId": "ea32b47a-c5d2-487a-d99b-cbe96fbf292e"
      },
      "execution_count": null,
      "outputs": [
        {
          "output_type": "execute_result",
          "data": {
            "text/plain": [
              "Pipeline(steps=[('vectorizer', DictVectorizer(sparse=False)),\n",
              "                ('classifier', DecisionTreeClassifier(criterion='entropy'))])"
            ],
            "text/html": [
              "<style>#sk-container-id-1 {color: black;background-color: white;}#sk-container-id-1 pre{padding: 0;}#sk-container-id-1 div.sk-toggleable {background-color: white;}#sk-container-id-1 label.sk-toggleable__label {cursor: pointer;display: block;width: 100%;margin-bottom: 0;padding: 0.3em;box-sizing: border-box;text-align: center;}#sk-container-id-1 label.sk-toggleable__label-arrow:before {content: \"▸\";float: left;margin-right: 0.25em;color: #696969;}#sk-container-id-1 label.sk-toggleable__label-arrow:hover:before {color: black;}#sk-container-id-1 div.sk-estimator:hover label.sk-toggleable__label-arrow:before {color: black;}#sk-container-id-1 div.sk-toggleable__content {max-height: 0;max-width: 0;overflow: hidden;text-align: left;background-color: #f0f8ff;}#sk-container-id-1 div.sk-toggleable__content pre {margin: 0.2em;color: black;border-radius: 0.25em;background-color: #f0f8ff;}#sk-container-id-1 input.sk-toggleable__control:checked~div.sk-toggleable__content {max-height: 200px;max-width: 100%;overflow: auto;}#sk-container-id-1 input.sk-toggleable__control:checked~label.sk-toggleable__label-arrow:before {content: \"▾\";}#sk-container-id-1 div.sk-estimator input.sk-toggleable__control:checked~label.sk-toggleable__label {background-color: #d4ebff;}#sk-container-id-1 div.sk-label input.sk-toggleable__control:checked~label.sk-toggleable__label {background-color: #d4ebff;}#sk-container-id-1 input.sk-hidden--visually {border: 0;clip: rect(1px 1px 1px 1px);clip: rect(1px, 1px, 1px, 1px);height: 1px;margin: -1px;overflow: hidden;padding: 0;position: absolute;width: 1px;}#sk-container-id-1 div.sk-estimator {font-family: monospace;background-color: #f0f8ff;border: 1px dotted black;border-radius: 0.25em;box-sizing: border-box;margin-bottom: 0.5em;}#sk-container-id-1 div.sk-estimator:hover {background-color: #d4ebff;}#sk-container-id-1 div.sk-parallel-item::after {content: \"\";width: 100%;border-bottom: 1px solid gray;flex-grow: 1;}#sk-container-id-1 div.sk-label:hover label.sk-toggleable__label {background-color: #d4ebff;}#sk-container-id-1 div.sk-serial::before {content: \"\";position: absolute;border-left: 1px solid gray;box-sizing: border-box;top: 0;bottom: 0;left: 50%;z-index: 0;}#sk-container-id-1 div.sk-serial {display: flex;flex-direction: column;align-items: center;background-color: white;padding-right: 0.2em;padding-left: 0.2em;position: relative;}#sk-container-id-1 div.sk-item {position: relative;z-index: 1;}#sk-container-id-1 div.sk-parallel {display: flex;align-items: stretch;justify-content: center;background-color: white;position: relative;}#sk-container-id-1 div.sk-item::before, #sk-container-id-1 div.sk-parallel-item::before {content: \"\";position: absolute;border-left: 1px solid gray;box-sizing: border-box;top: 0;bottom: 0;left: 50%;z-index: -1;}#sk-container-id-1 div.sk-parallel-item {display: flex;flex-direction: column;z-index: 1;position: relative;background-color: white;}#sk-container-id-1 div.sk-parallel-item:first-child::after {align-self: flex-end;width: 50%;}#sk-container-id-1 div.sk-parallel-item:last-child::after {align-self: flex-start;width: 50%;}#sk-container-id-1 div.sk-parallel-item:only-child::after {width: 0;}#sk-container-id-1 div.sk-dashed-wrapped {border: 1px dashed gray;margin: 0 0.4em 0.5em 0.4em;box-sizing: border-box;padding-bottom: 0.4em;background-color: white;}#sk-container-id-1 div.sk-label label {font-family: monospace;font-weight: bold;display: inline-block;line-height: 1.2em;}#sk-container-id-1 div.sk-label-container {text-align: center;}#sk-container-id-1 div.sk-container {/* jupyter's `normalize.less` sets `[hidden] { display: none; }` but bootstrap.min.css set `[hidden] { display: none !important; }` so we also need the `!important` here to be able to override the default hidden behavior on the sphinx rendered scikit-learn.org. See: https://github.com/scikit-learn/scikit-learn/issues/21755 */display: inline-block !important;position: relative;}#sk-container-id-1 div.sk-text-repr-fallback {display: none;}</style><div id=\"sk-container-id-1\" class=\"sk-top-container\"><div class=\"sk-text-repr-fallback\"><pre>Pipeline(steps=[(&#x27;vectorizer&#x27;, DictVectorizer(sparse=False)),\n",
              "                (&#x27;classifier&#x27;, DecisionTreeClassifier(criterion=&#x27;entropy&#x27;))])</pre><b>In a Jupyter environment, please rerun this cell to show the HTML representation or trust the notebook. <br />On GitHub, the HTML representation is unable to render, please try loading this page with nbviewer.org.</b></div><div class=\"sk-container\" hidden><div class=\"sk-item sk-dashed-wrapped\"><div class=\"sk-label-container\"><div class=\"sk-label sk-toggleable\"><input class=\"sk-toggleable__control sk-hidden--visually\" id=\"sk-estimator-id-1\" type=\"checkbox\" ><label for=\"sk-estimator-id-1\" class=\"sk-toggleable__label sk-toggleable__label-arrow\">Pipeline</label><div class=\"sk-toggleable__content\"><pre>Pipeline(steps=[(&#x27;vectorizer&#x27;, DictVectorizer(sparse=False)),\n",
              "                (&#x27;classifier&#x27;, DecisionTreeClassifier(criterion=&#x27;entropy&#x27;))])</pre></div></div></div><div class=\"sk-serial\"><div class=\"sk-item\"><div class=\"sk-estimator sk-toggleable\"><input class=\"sk-toggleable__control sk-hidden--visually\" id=\"sk-estimator-id-2\" type=\"checkbox\" ><label for=\"sk-estimator-id-2\" class=\"sk-toggleable__label sk-toggleable__label-arrow\">DictVectorizer</label><div class=\"sk-toggleable__content\"><pre>DictVectorizer(sparse=False)</pre></div></div></div><div class=\"sk-item\"><div class=\"sk-estimator sk-toggleable\"><input class=\"sk-toggleable__control sk-hidden--visually\" id=\"sk-estimator-id-3\" type=\"checkbox\" ><label for=\"sk-estimator-id-3\" class=\"sk-toggleable__label sk-toggleable__label-arrow\">DecisionTreeClassifier</label><div class=\"sk-toggleable__content\"><pre>DecisionTreeClassifier(criterion=&#x27;entropy&#x27;)</pre></div></div></div></div></div></div></div>"
            ]
          },
          "metadata": {},
          "execution_count": 76
        }
      ]
    },
    {
      "cell_type": "markdown",
      "source": [
        "**8. Hitung Akurasi!**"
      ],
      "metadata": {
        "id": "vxQ0CyNgImdM"
      }
    },
    {
      "cell_type": "code",
      "source": [
        "X_test, y_test = transform_to_dataset(testing_sentences)"
      ],
      "metadata": {
        "id": "ptq6hKHmIrun"
      },
      "execution_count": null,
      "outputs": []
    },
    {
      "cell_type": "code",
      "source": [
        "print (\"Tingkat Akurasi : {:.2%}\" . format(clf.score(X_test, y_test)))"
      ],
      "metadata": {
        "colab": {
          "base_uri": "https://localhost:8080/"
        },
        "id": "k-RBynmnI0SZ",
        "outputId": "5ad52081-cfff-4933-b0ec-beb11ddd0c5b"
      },
      "execution_count": null,
      "outputs": [
        {
          "output_type": "stream",
          "name": "stdout",
          "text": [
            "Tingkat Akurasi : 88.55%\n"
          ]
        }
      ]
    },
    {
      "cell_type": "markdown",
      "source": [
        "**9. Coba generate POS dengan kalimat suka-suka saya**"
      ],
      "metadata": {
        "id": "w4WC27bjJNaF"
      }
    },
    {
      "cell_type": "code",
      "source": [
        "def pos_tag(sentence) :\n",
        "  tagged_sentences = []\n",
        "  tags = clf.predict([features(sentence, index) for index in range(len(sentence))])\n",
        "  return zip(sentence, tags)"
      ],
      "metadata": {
        "id": "diXlvzRhJXuX"
      },
      "execution_count": null,
      "outputs": []
    },
    {
      "cell_type": "code",
      "source": [
        "POS_list = list(pos_tag(word_tokenize('My NLP lecture is Evy'))) # jika di train dengan bhs inggris, testing juga harus bahasa inggris\n",
        "for t in POS_list :\n",
        "  print (u\"{:<16}{:>2}\" . format(str(t[0]), str(t[1])))"
      ],
      "metadata": {
        "colab": {
          "base_uri": "https://localhost:8080/"
        },
        "id": "QcTnIpHvJ0Q0",
        "outputId": "a83d776d-35fb-46f2-8fd1-994d8cb81277"
      },
      "execution_count": null,
      "outputs": [
        {
          "output_type": "stream",
          "name": "stdout",
          "text": [
            "My              NNP\n",
            "NLP             NNP\n",
            "lecture         RB\n",
            "is              VBZ\n",
            "Evy             NNP\n"
          ]
        }
      ]
    }
  ]
}